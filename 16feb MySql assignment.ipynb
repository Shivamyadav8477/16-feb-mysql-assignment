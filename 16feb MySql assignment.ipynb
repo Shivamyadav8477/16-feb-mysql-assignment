{
 "cells": [
  {
   "cell_type": "code",
   "execution_count": null,
   "id": "fab608bf-0772-4657-89f0-7e39f255392a",
   "metadata": {},
   "outputs": [],
   "source": [
    "Q1. What is a database? Differentiate between SQL and NoSQL databases."
   ]
  },
  {
   "cell_type": "code",
   "execution_count": null,
   "id": "fe01ceaa-4833-4d78-adb3-38bea792355a",
   "metadata": {},
   "outputs": [],
   "source": [
    "**Database:**\n",
    "\n",
    "A database is a structured collection of data that is organized, stored, and managed in a way that allows for efficient retrieval, querying, and modification of data. Databases are used to store and manage vast amounts of information for various purposes, including data analysis, application development, and business operations.\n",
    "\n",
    "Databases typically consist of tables (in relational databases) or collections (in NoSQL databases) where data is stored in a structured format. They provide mechanisms for adding, updating, deleting, and querying data while ensuring data integrity and consistency.\n",
    "\n",
    "**Differentiation Between SQL and NoSQL Databases:**\n",
    "\n",
    "SQL (Structured Query Language) and NoSQL (Not Only SQL) are two main categories of databases, each with its own characteristics and use cases. Here's a differentiation between SQL and NoSQL databases:\n",
    "\n",
    "**SQL Databases:**\n",
    "\n",
    "1. **Structured Data**: SQL databases are relational databases that store structured data in tables with predefined schemas. Data is organized into rows and columns.\n",
    "\n",
    "2. **ACID Transactions**: SQL databases adhere to the ACID (Atomicity, Consistency, Isolation, Durability) properties, ensuring strong data consistency and integrity. Transactions are fully supported.\n",
    "\n",
    "3. **Schema**: SQL databases have a fixed schema, which means that the structure of the data (the table schema) must be defined before inserting data. Schema changes can be complex and may require migrations.\n",
    "\n",
    "4. **Query Language**: SQL databases use the SQL query language for data manipulation and retrieval. SQL provides a powerful and standardized way to interact with the database.\n",
    "\n",
    "5. **Scalability**: SQL databases are typically scaled vertically (by adding more resources to a single server). They may not scale easily across multiple servers.\n",
    "\n",
    "6. **Examples**: MySQL, PostgreSQL, Oracle Database, Microsoft SQL Server are examples of SQL databases.\n",
    "\n",
    "**NoSQL Databases:**\n",
    "\n",
    "1. **Flexible Data Models**: NoSQL databases can store structured, semi-structured, or unstructured data. They are not bound by fixed schemas, allowing for flexible and dynamic data models.\n",
    "\n",
    "2. **BASE Transactions**: NoSQL databases often adhere to the BASE (Basically Available, Soft state, Eventually consistent) model, which prioritizes high availability and eventual consistency over strong consistency.\n",
    "\n",
    "3. **Schema-less**: NoSQL databases are schema-less, meaning data can be inserted without requiring a predefined schema. New fields can be added to documents or records without major modifications.\n",
    "\n",
    "4. **Query Language**: NoSQL databases use a variety of query languages, depending on the database type. For example, MongoDB uses JSON-like queries, while Cassandra uses CQL (Cassandra Query Language).\n",
    "\n",
    "5. **Scalability**: NoSQL databases are designed for horizontal scalability and can distribute data across multiple nodes or servers, making them suitable for handling large amounts of data and high traffic.\n",
    "\n",
    "6. **Examples**: There are various types of NoSQL databases, including document-based (e.g., MongoDB), key-value (e.g., Redis), column-family (e.g., Apache Cassandra), and graph databases (e.g., Neo4j).\n",
    "\n",
    "In summary, SQL databases are well-suited for applications with structured data and complex queries that require strong data consistency. NoSQL databases are more flexible, scalable, and suitable for applications with changing data requirements, large datasets, and high availability needs. The choice between SQL and NoSQL databases depends on the specific needs and characteristics of the application being developed."
   ]
  },
  {
   "cell_type": "code",
   "execution_count": null,
   "id": "9e8c31de-9be9-469e-a911-9ff23eabe7cb",
   "metadata": {},
   "outputs": [],
   "source": [
    "Q2. What is DDL? Explain why CREATE, DROP, ALTER, and TRUNCATE are used with an example."
   ]
  },
  {
   "cell_type": "code",
   "execution_count": null,
   "id": "4a3ad975-2286-48ec-8148-ef9c8b02dc6e",
   "metadata": {},
   "outputs": [],
   "source": [
    "DDL (Data Definition Language):\n",
    "\n",
    "DDL stands for Data Definition Language. It is a subset of SQL (Structured Query Language) that is used for defining and managing the structure of a database, including tables, schemas, constraints, and other database objects. DDL statements are used to create, modify, or delete database objects. DDL does not deal with the manipulation of data within tables; it focuses on defining the structure of the database.\n",
    "\n",
    "Here are some common DDL statements and their explanations:"
   ]
  },
  {
   "cell_type": "code",
   "execution_count": null,
   "id": "f2e0dc9e-7afb-46ee-9066-de711181c5be",
   "metadata": {},
   "outputs": [],
   "source": [
    "CREATE:\n",
    "\n",
    "The CREATE statement is used to create new database objects such as tables, indexes, views, and schemas.\n",
    "Example: Creating a new table named \"employees.\""
   ]
  },
  {
   "cell_type": "code",
   "execution_count": null,
   "id": "76ab4227-3222-49ed-94d6-acd75184ef09",
   "metadata": {},
   "outputs": [],
   "source": [
    "CREATE TABLE employees\n",
    "   ( employee_id INT PRIMARY KEY,\n",
    "    first_name VARCHAR(50),\n",
    "    last_name VARCHAR(50),\n",
    "    department_id INT);\n",
    "\n"
   ]
  },
  {
   "cell_type": "code",
   "execution_count": null,
   "id": "891f63ab-0efe-48fc-8809-5f00ca3e6fb2",
   "metadata": {},
   "outputs": [],
   "source": [
    "DROP:\n",
    "\n",
    "The DROP statement is used to delete existing database objects such as tables, indexes, views, and schemas.\n",
    "Example: Deleting a table named \"employees.\""
   ]
  },
  {
   "cell_type": "code",
   "execution_count": null,
   "id": "5c283da8-6e45-4bb7-a7a2-330082fb183a",
   "metadata": {},
   "outputs": [],
   "source": [
    "DROP TABLE employees;\n"
   ]
  },
  {
   "cell_type": "code",
   "execution_count": null,
   "id": "44df1c8a-81a3-487f-9aef-4f48b7d5a067",
   "metadata": {},
   "outputs": [],
   "source": [
    "ALTER:\n",
    "\n",
    "The ALTER statement is used to modify the structure of an existing database object, such as adding, modifying, or deleting columns in a table.\n",
    "Example: Adding a new column \"email\" to the \"employees\" table."
   ]
  },
  {
   "cell_type": "code",
   "execution_count": null,
   "id": "73fe4a02-4b0f-4d80-8aef-51d06122e247",
   "metadata": {},
   "outputs": [],
   "source": [
    "ALTER TABLE employees\n",
    "ADD COLUMN email VARCHAR(100);\n"
   ]
  },
  {
   "cell_type": "code",
   "execution_count": null,
   "id": "e744fcee-9655-4723-8003-44da9153644f",
   "metadata": {},
   "outputs": [],
   "source": [
    "TRUNCATE:\n",
    "\n",
    "The TRUNCATE statement is used to remove all rows from a table, but it retains the table structure.\n",
    "Example: Truncating the \"employees\" table."
   ]
  },
  {
   "cell_type": "code",
   "execution_count": null,
   "id": "8c884821-f8d8-45f6-9517-492c38d10810",
   "metadata": {},
   "outputs": [],
   "source": [
    "TRUNCATE TABLE employees;\n"
   ]
  },
  {
   "cell_type": "code",
   "execution_count": null,
   "id": "cf124d08-988e-40fa-9fa0-e79b53dcbf7f",
   "metadata": {},
   "outputs": [],
   "source": [
    "These DDL statements are essential for defining the database schema, making structural changes, and managing database objects. They are typically executed by database administrators and developers to create and maintain the database's structure according to the application's requirements."
   ]
  },
  {
   "cell_type": "code",
   "execution_count": null,
   "id": "e9f9e8eb-192b-4a48-becd-3cdf1193e9db",
   "metadata": {},
   "outputs": [],
   "source": [
    "Q3. What is DML? Explain INSERT, UPDATE, and DELETE with an example."
   ]
  },
  {
   "cell_type": "code",
   "execution_count": null,
   "id": "1d0a6fa4-9003-4c13-88c7-91b24d9f33f3",
   "metadata": {},
   "outputs": [],
   "source": [
    "DML (Data Manipulation Language):\n",
    "\n",
    "DML stands for Data Manipulation Language. It is a subset of SQL (Structured Query Language) that is used for manipulating or modifying data within a database. DML statements are responsible for performing operations such as inserting, updating, and deleting data in database tables. Unlike DDL (Data Definition Language), which deals with the structure of the database, DML focuses on the manipulation of data.\n",
    "\n",
    "Here are some common DML statements and their "
   ]
  },
  {
   "cell_type": "code",
   "execution_count": null,
   "id": "5b3f7414-823d-484b-9fb6-125439366a38",
   "metadata": {},
   "outputs": [],
   "source": [
    "INSERT:\n",
    "\n",
    "The INSERT statement is used to add new records or rows of data into a table.\n",
    "Example: Inserting a new employee record into an \"employees\" table."
   ]
  },
  {
   "cell_type": "code",
   "execution_count": null,
   "id": "97cab5bc-2f90-4b20-894d-a8fdfa69cd67",
   "metadata": {},
   "outputs": [],
   "source": [
    "INSERT INTO employees (employee_id, first_name, last_name, department_id)\n",
    "VALUES (101, 'John', 'Doe', 3);\n"
   ]
  },
  {
   "cell_type": "code",
   "execution_count": null,
   "id": "27104497-f8a6-435c-a26b-59be435e62fc",
   "metadata": {},
   "outputs": [],
   "source": [
    "UPDATE:\n",
    "\n",
    "The UPDATE statement is used to modify existing data in a table. It allows you to change the values of one or more columns in existing rows.\n",
    "Example: Updating the department for an employee in the \"employees\" table."
   ]
  },
  {
   "cell_type": "code",
   "execution_count": null,
   "id": "d03b14f4-6323-4b67-b5ce-c5bf385aefa4",
   "metadata": {},
   "outputs": [],
   "source": [
    "UPDATE employees\n",
    "SET department_id = 4\n",
    "WHERE employee_id = 101;\n"
   ]
  },
  {
   "cell_type": "code",
   "execution_count": null,
   "id": "e225b437-d891-4cd6-bee9-a8d2fdcde002",
   "metadata": {},
   "outputs": [],
   "source": [
    "DELETE:\n",
    "\n",
    "The DELETE statement is used to remove one or more rows from a table based on a specified condition.\n",
    "Example: Deleting an employee record from the \"employees\" table."
   ]
  },
  {
   "cell_type": "code",
   "execution_count": null,
   "id": "21f3a1ee-c072-4d93-9a9f-59b667569486",
   "metadata": {},
   "outputs": [],
   "source": [
    "DELETE FROM employees\n",
    "WHERE employee_id = 101;\n"
   ]
  },
  {
   "cell_type": "code",
   "execution_count": null,
   "id": "2da7c626-6a08-452e-bc0c-6f5cb1799ec1",
   "metadata": {},
   "outputs": [],
   "source": [
    "In these examples:\n",
    "\n",
    "The INSERT statement adds a new employee record to the \"employees\" table, specifying the values for each column.\n",
    "The UPDATE statement modifies the department for an employee whose employee_id is 101.\n",
    "The DELETE statement removes an employee record from the \"employees\" table where the employee_id is 101.\n",
    "DML statements are crucial for maintaining and managing the data within a database. They allow you to add, update, and delete data, ensuring that the database remains accurate and up-to-date with the changing requirements of your application."
   ]
  },
  {
   "cell_type": "code",
   "execution_count": null,
   "id": "48549707-2cc5-4d2a-9b09-64b15bd70a4e",
   "metadata": {},
   "outputs": [],
   "source": [
    "Q4. What is DQL? Explain SELECT with an example."
   ]
  },
  {
   "cell_type": "code",
   "execution_count": null,
   "id": "4b6cc6d7-d5ae-4c7a-8366-2fbbed6724be",
   "metadata": {},
   "outputs": [],
   "source": [
    "DQL (Data Query Language):\n",
    "\n",
    "DQL stands for Data Query Language. It is a subset of SQL (Structured Query Language) that is used for retrieving data from a database. DQL statements are primarily concerned with querying and selecting data from one or more database tables. The most common DQL statement is SELECT.\n",
    "\n",
    "SELECT Statement:\n",
    "\n",
    "The SELECT statement is used to retrieve data from one or more tables in a database. It allows you to specify the columns you want to retrieve, the table(s) from which to retrieve data, and optional conditions to filter the data. The retrieved data is presented in the form of a result set.\n",
    "\n",
    "Here is the basic syntax of the SELECT statement"
   ]
  },
  {
   "cell_type": "code",
   "execution_count": null,
   "id": "1e6d3f3a-c561-4190-b797-8da6e651675a",
   "metadata": {},
   "outputs": [],
   "source": [
    "SELECT column1, column2, ...\n",
    "FROM table_name\n",
    "WHERE condition;\n"
   ]
  },
  {
   "cell_type": "code",
   "execution_count": null,
   "id": "9cba5ca7-120c-4b22-973e-89c000585e44",
   "metadata": {},
   "outputs": [],
   "source": [
    "column1, column2, ...: The list of columns you want to retrieve data from. You can use * to select all columns.\n",
    "table_name: The name of the table(s) from which to retrieve data.\n",
    "condition: Optional. It specifies a condition that filters the rows to be retrieved. If omitted, all rows are selected."
   ]
  },
  {
   "cell_type": "code",
   "execution_count": null,
   "id": "ea43cbb3-11a4-4751-9c04-c42039594452",
   "metadata": {},
   "outputs": [],
   "source": [
    "Example of SELECT Statement:\n",
    "\n",
    "Consider a table named \"employees\" with the following data:"
   ]
  },
  {
   "cell_type": "code",
   "execution_count": null,
   "id": "e1a71d40-119d-4c33-a536-9e2753934e58",
   "metadata": {},
   "outputs": [],
   "source": [
    "+----+------------+-----------+--------+--------+\n",
    "| ID | First_Name | Last_Name | Salary | Dept   |\n",
    "+----+------------+-----------+--------+--------+\n",
    "| 1  | John       | Doe       | 50000  | IT     |\n",
    "| 2  | Jane       | Smith     | 55000  | Sales  |\n",
    "| 3  | Alice      | Johnson   | 60000  | HR     |\n",
    "| 4  | Bob        | Brown     | 52000  | Sales  |\n",
    "+----+------------+-----------+--------+--------+\n",
    ":"
   ]
  },
  {
   "cell_type": "code",
   "execution_count": null,
   "id": "9e97f426-758b-4b1d-b47f-ff1b2ee99a0b",
   "metadata": {},
   "outputs": [],
   "source": [
    "Retrieve all columns for all employees:"
   ]
  },
  {
   "cell_type": "code",
   "execution_count": null,
   "id": "9961719b-85ac-4e7d-bd96-93e2bf13051a",
   "metadata": {},
   "outputs": [],
   "source": [
    "SELECT * FROM employees;\n",
    "\n",
    "Retrieve only the \"First_Name\" and \"Salary\" columns for employees with a salary greater than 55000:\n",
    "\n",
    "sql\n",
    "Copy code\n",
    "SELECT First_Name, Salary\n",
    "FROM employees\n",
    "WHERE Salary > 55000;\n",
    "Retrieve employees from the \"Sales\" department:\n",
    "\n",
    "sql\n",
    "Copy code\n",
    "SELECT *\n",
    "FROM employees\n",
    "WHERE Dept = 'Sales';\n",
    "Retrieve the total number of employees in the \"HR\" department:\n",
    "\n",
    "sql\n",
    "Copy code\n",
    "SELECT COUNT(*)\n",
    "FROM employees\n",
    "WHERE Dept = 'HR';\n",
    "The SELECT statement is a fundamental tool for querying databases and extracting specific data based on your requirements. It allows you to retrieve, filter, and manipulate data in a structured manner.\n",
    "\n",
    "\n",
    "\n",
    "\n",
    "\n"
   ]
  },
  {
   "cell_type": "code",
   "execution_count": null,
   "id": "89e9130b-064e-4ee3-9e75-87cf16e425ef",
   "metadata": {},
   "outputs": [],
   "source": [
    "Q5. Explain Primary Key and Foreign Key."
   ]
  },
  {
   "cell_type": "code",
   "execution_count": null,
   "id": "940eb16b-9bde-4770-8826-96e40a840866",
   "metadata": {},
   "outputs": [],
   "source": [
    "Primary Key:\n",
    "\n",
    "A primary key is a database constraint used to uniquely identify each record or row in a database table. It serves as a unique identifier for the rows and ensures that there are no duplicate values in the specified column or set of columns. Here are some key characteristics of a primary key:\n",
    "\n",
    "Uniqueness: A primary key must contain unique values across all rows in the table. Each row in the table must have a distinct primary key value.\n",
    "\n",
    "Uniqueness Enforcement: The database management system (DBMS) enforces the uniqueness of the primary key automatically. It does not allow duplicate values to be inserted or updated in the primary key column(s).\n",
    "\n",
    "Not Null: A primary key column cannot contain null (empty) values. Every row must have a non-null value in the primary key column.\n",
    "\n",
    "Single or Composite: A primary key can consist of a single column or a combination of multiple columns. In the case of a composite primary key, the combination of values in the specified columns must be unique.\n",
    "\n",
    "Indexed: A primary key is typically indexed automatically by the DBMS for efficient searching and retrieval.\n",
    "\n",
    "Example:\n",
    "Consider an \"employees\" table where each employee has a unique employee ID (emp_id) as the primary key:"
   ]
  },
  {
   "cell_type": "code",
   "execution_count": null,
   "id": "b409f20b-782f-4c69-b03e-b00297c4b7f0",
   "metadata": {},
   "outputs": [],
   "source": [
    "+-------+--------------+-----------+--------+\n",
    "| emp_id| first_name   | last_name | salary |\n",
    "+-------+--------------+-----------+--------+\n",
    "| 101   | John         | Doe       | 50000  |\n",
    "| 102   | Jane         | Smith     | 55000  |\n",
    "| 103   | Alice        | Johnson   | 60000  |\n",
    "+-------+--------------+-----------+--------+\n"
   ]
  },
  {
   "cell_type": "code",
   "execution_count": null,
   "id": "600b748c-53ba-48d2-b33c-b4fd3fb8f4e5",
   "metadata": {},
   "outputs": [],
   "source": [
    "In this example, the \"emp_id\" column is the primary key."
   ]
  },
  {
   "cell_type": "code",
   "execution_count": null,
   "id": "b0f29182-7a05-4b96-aee3-eae2ad78d942",
   "metadata": {},
   "outputs": [],
   "source": [
    "Foreign Key:\n",
    "\n",
    "A foreign key is a database constraint used to establish a link or relationship between two tables in a relational database. It defines a column (or set of columns) in one table, known as the referencing table, that refers to the primary key of another table, known as the referenced table. Foreign keys are used to enforce referential integrity, ensuring that data relationships between tables are consistent. Here are some key characteristics of a foreign key:\n",
    "\n",
    "Referential Integrity: A foreign key enforces referential integrity by ensuring that values in the referencing table match values in the referenced table's primary key.\n",
    "\n",
    "Relationships: Foreign keys establish relationships between tables, such as one-to-many or many-to-one relationships. For example, a foreign key in a \"orders\" table may reference the primary key in a \"customers\" table, indicating that each order is associated with a specific customer.\n",
    "\n",
    "Cascade Actions: Foreign keys can specify actions to be taken when referenced rows are modified or deleted. Common options include CASCADE (automatically propagate changes), SET NULL (set referencing values to NULL), and SET DEFAULT (set referencing values to their default values).\n",
    "\n",
    "Indexed: Foreign keys are often automatically indexed to improve performance when querying related data.\n",
    "\n",
    "Example:\n",
    "Consider two tables, \"orders\" and \"customers.\" The \"customer_id\" column in the \"orders\" table serves as a foreign key referencing the \"customer_id\" primary key in the \"customers\" table:"
   ]
  },
  {
   "cell_type": "code",
   "execution_count": null,
   "id": "52b5840e-28dc-4f66-ad41-022a14c372f9",
   "metadata": {},
   "outputs": [],
   "source": [
    "Orders Table:"
   ]
  },
  {
   "cell_type": "code",
   "execution_count": null,
   "id": "a1949c05-22f1-49c2-96bb-c8fdee825baa",
   "metadata": {},
   "outputs": [],
   "source": [
    "+-----------+-------------+--------+\n",
    "| order_id  | customer_id | amount |\n",
    "+-----------+-------------+--------+\n",
    "| 1001      | 101         | 500    |\n",
    "| 1002      | 102         | 750    |\n",
    "| 1003      | 103         | 600    |\n",
    "+-----------+-------------+--------+\n"
   ]
  },
  {
   "cell_type": "code",
   "execution_count": null,
   "id": "b9acb68a-4e33-4ec7-9e76-51ef75eb0e6e",
   "metadata": {},
   "outputs": [],
   "source": [
    "Customers Table:"
   ]
  },
  {
   "cell_type": "code",
   "execution_count": null,
   "id": "0fe97e33-eb94-4c09-8214-a20a5775ca6a",
   "metadata": {},
   "outputs": [],
   "source": [
    "+-------------+--------------+\n",
    "| customer_id | customer_name|\n",
    "+-------------+--------------+\n",
    "| 101         | John Doe     |\n",
    "| 102         | Jane Smith   |\n",
    "| 103         | Alice Johnson|\n",
    "+-------------+--------------+\n"
   ]
  },
  {
   "cell_type": "code",
   "execution_count": null,
   "id": "ea8eddf0-7d41-4fe4-a229-3dd3e08a988b",
   "metadata": {},
   "outputs": [],
   "source": [
    "In this example, the \"customer_id\" column in the \"orders\" table is a foreign key that establishes a relationship between the \"orders\" and \"customers\" tables. It ensures that each order is associated with a valid customer in the \"customers\" table."
   ]
  },
  {
   "cell_type": "code",
   "execution_count": null,
   "id": "90a2395a-e42c-475e-b861-24a8d3057d35",
   "metadata": {},
   "outputs": [],
   "source": [
    "Q6. Write a python code to connect MySQL to python. Explain the cursor() and execute() method."
   ]
  },
  {
   "cell_type": "code",
   "execution_count": null,
   "id": "c4373734-43de-46d6-b3a7-c4f410661f1a",
   "metadata": {},
   "outputs": [],
   "source": [
    "To connect MySQL to Python, you can use the mysql-connector-python library, which provides a Python interface for interacting with MySQL databases. You'll also need a MySQL server installed and running. Here's how to connect to a MySQL database in Python and use the cursor() and execute() methods:\n",
    "\n",
    "First, you need to install the mysql-connector-python library if you haven't already. You can install it using pip:"
   ]
  },
  {
   "cell_type": "code",
   "execution_count": null,
   "id": "7f9a280f-a11a-42ab-9bee-0a71355c9a38",
   "metadata": {},
   "outputs": [],
   "source": [
    "pip install mysql-connector-python\n"
   ]
  },
  {
   "cell_type": "code",
   "execution_count": null,
   "id": "4252514f-a183-44e2-afaf-fc8379a2dc58",
   "metadata": {},
   "outputs": [],
   "source": [
    "Now, you can create a Python script to connect to the MySQL database and use the cursor() and execute() methods:"
   ]
  },
  {
   "cell_type": "code",
   "execution_count": 7,
   "id": "52588980-ba69-4d33-be59-0c048178bf8e",
   "metadata": {},
   "outputs": [
    {
     "ename": "ModuleNotFoundError",
     "evalue": "No module named 'mysql'",
     "output_type": "error",
     "traceback": [
      "\u001b[0;31m---------------------------------------------------------------------------\u001b[0m",
      "\u001b[0;31mModuleNotFoundError\u001b[0m                       Traceback (most recent call last)",
      "Cell \u001b[0;32mIn [7], line 1\u001b[0m\n\u001b[0;32m----> 1\u001b[0m \u001b[38;5;28;01mimport\u001b[39;00m \u001b[38;5;21;01mmysql\u001b[39;00m\u001b[38;5;21;01m.\u001b[39;00m\u001b[38;5;21;01mconnector\u001b[39;00m\n\u001b[1;32m      3\u001b[0m \u001b[38;5;66;03m# Replace these values with your MySQL server configuration\u001b[39;00m\n\u001b[1;32m      4\u001b[0m host \u001b[38;5;241m=\u001b[39m \u001b[38;5;124m\"\u001b[39m\u001b[38;5;124myour_mysql_host\u001b[39m\u001b[38;5;124m\"\u001b[39m\n",
      "\u001b[0;31mModuleNotFoundError\u001b[0m: No module named 'mysql'"
     ]
    }
   ],
   "source": [
    "import mysql.connector\n",
    "\n",
    "# Replace these values with your MySQL server configuration\n",
    "host = \"your_mysql_host\"\n",
    "user = \"your_mysql_user\"\n",
    "password = \"your_mysql_password\"\n",
    "database = \"your_database_name\"\n",
    "\n",
    "try:\n",
    "    # Connect to the MySQL server\n",
    "    connection = mysql.connector.connect(\n",
    "        host=host,\n",
    "        user=user,\n",
    "        password=password,\n",
    "        database=database\n",
    "    )\n",
    "\n",
    "    # Create a cursor object to interact with the database\n",
    "    cursor = connection.cursor()\n",
    "\n",
    "    # Execute SQL queries using the execute() method\n",
    "    # Example 1: Creating a table\n",
    "    create_table_sql = \"\"\"\n",
    "    CREATE TABLE IF NOT EXISTS employees (\n",
    "        employee_id INT PRIMARY KEY,\n",
    "        first_name VARCHAR(50),\n",
    "        last_name VARCHAR(50)\n",
    "    )\n",
    "    \"\"\"\n",
    "    cursor.execute(create_table_sql)\n",
    "    print(\"Table 'employees' created or already exists.\")\n",
    "\n",
    "    # Example 2: Inserting data into the table\n",
    "    insert_data_sql = \"\"\"\n",
    "    INSERT INTO employees (employee_id, first_name, last_name)\n",
    "    VALUES (1, 'John', 'Doe'),\n",
    "           (2, 'Jane', 'Smith'),\n",
    "           (3, 'Alice', 'Johnson')\n",
    "    \"\"\"\n",
    "    cursor.execute(insert_data_sql)\n",
    "    connection.commit()  # Commit the transaction\n",
    "\n",
    "    print(\"Data inserted into the 'employees' table.\")\n",
    "\n",
    "    # Example 3: Querying data from the table\n",
    "    select_data_sql = \"SELECT * FROM employees\"\n",
    "    cursor.execute(select_data_sql)\n",
    "\n",
    "    # Fetch and print the results\n",
    "    for row in cursor.fetchall():\n",
    "        print(row)\n",
    "\n",
    "except mysql.connector.Error as error:\n",
    "    print(f\"Error: {error}\")\n",
    "finally:\n",
    "    # Close the cursor and database connection\n",
    "    if 'cursor' in locals() and cursor is not None:\n",
    "        cursor.close()\n",
    "    if 'connection' in locals() and connection.is_connected():\n",
    "        connection.close()\n"
   ]
  }
 ],
 "metadata": {
  "kernelspec": {
   "display_name": "Python 3 (ipykernel)",
   "language": "python",
   "name": "python3"
  },
  "language_info": {
   "codemirror_mode": {
    "name": "ipython",
    "version": 3
   },
   "file_extension": ".py",
   "mimetype": "text/x-python",
   "name": "python",
   "nbconvert_exporter": "python",
   "pygments_lexer": "ipython3",
   "version": "3.10.6"
  }
 },
 "nbformat": 4,
 "nbformat_minor": 5
}
